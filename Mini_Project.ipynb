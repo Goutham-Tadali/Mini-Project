{
  "nbformat": 4,
  "nbformat_minor": 0,
  "metadata": {
    "colab": {
      "name": "Mini Project.ipynb",
      "provenance": [],
      "collapsed_sections": [],
      "mount_file_id": "1U3u5rxRL6ykhJdXNSZzBH1kqU7dSw75a",
      "authorship_tag": "ABX9TyPo5FSuAInpLYe+Kh1U/PUf",
      "include_colab_link": true
    },
    "kernelspec": {
      "name": "python3",
      "display_name": "Python 3"
    }
  },
  "cells": [
    {
      "cell_type": "markdown",
      "metadata": {
        "id": "view-in-github",
        "colab_type": "text"
      },
      "source": [
        "<a href=\"https://colab.research.google.com/github/Goutham-Tadali/Mini-Project/blob/main/Mini_Project.ipynb\" target=\"_parent\"><img src=\"https://colab.research.google.com/assets/colab-badge.svg\" alt=\"Open In Colab\"/></a>"
      ]
    },
    {
      "cell_type": "code",
      "metadata": {
        "colab": {
          "base_uri": "https://localhost:8080/"
        },
        "id": "9dahTFuLWZwr",
        "outputId": "d3fd0a1a-01d6-4e15-c630-20d1349fbd36"
      },
      "source": [
        "# i'm using bing image downloader to collect my data (images)\r\n",
        "\r\n",
        "!pip install bing-image-downloader\r\n"
      ],
      "execution_count": null,
      "outputs": [
        {
          "output_type": "stream",
          "text": [
            "Collecting bing-image-downloader\n",
            "  Downloading https://files.pythonhosted.org/packages/0d/bf/537a61030b84ae4cd5022d5c7b014fd9bc3ce7c02358919153a6658a61d3/bing_image_downloader-1.0.4-py3-none-any.whl\n",
            "Installing collected packages: bing-image-downloader\n",
            "Successfully installed bing-image-downloader-1.0.4\n"
          ],
          "name": "stdout"
        }
      ]
    },
    {
      "cell_type": "code",
      "metadata": {
        "id": "0_HTyK29Wd0K"
      },
      "source": [
        "# creating a directory \r\n",
        "\r\n",
        "!mkdir images"
      ],
      "execution_count": null,
      "outputs": []
    },
    {
      "cell_type": "code",
      "metadata": {
        "colab": {
          "base_uri": "https://localhost:8080/"
        },
        "id": "aQ2n5UVEWizk",
        "outputId": "dfc9f2c6-2514-4a86-84e2-a7416c535d64"
      },
      "source": [
        "# here, i'm considering my data to be elephant, pen and planet\r\n",
        "\r\n",
        "from bing_image_downloader import downloader\r\n",
        "downloader.download(\"pen images\", limit=30,output_dir='images',adult_filter_off=True)"
      ],
      "execution_count": null,
      "outputs": [
        {
          "output_type": "stream",
          "text": [
            "\n",
            "\n",
            "[!!]Indexing page: 1\n",
            "\n",
            "[%] Indexed 30 Images on Page 1.\n",
            "\n",
            "===============================================\n",
            "\n",
            "[%] Downloading Image #1 from https://cms.cdn.vpsvc.com/-/media/vistaprint/product-images/pens/premium_ballpoint_pen_1.ashx?la=en&amp;w=0&amp;h=0&amp;jq=80&amp;v=636687272050000000&amp;sc_lang=en&amp;hash=D680C54899636DA894B198F30D9B794E9CFBB589\n",
            "[%] File Downloaded !\n",
            "\n",
            "[%] Downloading Image #2 from https://www.nibs.com/sites/default/files/product_images/pens/pen_display/pilot-falcon-resin-black-gold-feature.jpg\n",
            "[%] File Downloaded !\n",
            "\n",
            "[%] Downloading Image #3 from https://www.penfactory.com/media/catalog/product/cache/1/image/9df78eab33525d08d6e5fb8d27136e95/i/p/ip-20-promotional-stylus-pens-pink.jpg\n",
            "[%] File Downloaded !\n",
            "\n",
            "[%] Downloading Image #4 from http://dreamicus.com/data/pen/pen-02.png\n",
            "[%] File Downloaded !\n",
            "\n",
            "[%] Downloading Image #5 from https://www.theconsumablescompany.com/wp-content/uploads/2017/09/fountain-pen.jpg\n",
            "[%] File Downloaded !\n",
            "\n",
            "[%] Downloading Image #6 from https://images8.qualitylogoproducts.com/custom-pens/aluminum-pen-with-stylus-jumboextralarge-392008.jpg\n",
            "[%] File Downloaded !\n",
            "\n",
            "[%] Downloading Image #7 from https://images9.qualitylogoproducts.com/custom-pens/baldwin-stylus-pen-jumboextralarge-394861.jpg\n",
            "[%] File Downloaded !\n",
            "\n",
            "[%] Downloading Image #8 from http://penhabit.com/wp-content/uploads/2014/09/P1000350.jpg\n",
            "[%] File Downloaded !\n",
            "\n",
            "[%] Downloading Image #9 from https://www.penfactory.com/media/catalog/product/cache/1/image/9df78eab33525d08d6e5fb8d27136e95/f/l/fl-100-black.jpg\n",
            "[%] File Downloaded !\n",
            "\n",
            "[%] Downloading Image #10 from https://openclipart.org/image/2400px/svg_to_png/194983/1405957295.png\n",
            "[%] File Downloaded !\n",
            "\n",
            "[%] Downloading Image #11 from https://images5.qualitylogoproducts.com/custom-pens/premium-pen-stylus-tip-superextralarge-238958.jpg\n",
            "[%] File Downloaded !\n",
            "\n",
            "[%] Downloading Image #12 from https://images2.qualitylogoproducts.com/custom-pens/monaco-stylus-pen-jumboextralarge-392655.jpg\n",
            "[%] File Downloaded !\n",
            "\n",
            "[%] Downloading Image #13 from https://images2.qualitylogoproducts.com/custom-pens/americana-stylus-pen-jumboextralarge-420346.jpg\n",
            "[%] File Downloaded !\n",
            "\n",
            "[%] Downloading Image #14 from https://www.nibs.com/sites/default/files/product_images/pens/pen_display/aurora-88-brown.jpg\n",
            "[%] File Downloaded !\n",
            "\n",
            "[%] Downloading Image #15 from https://images6.qualitylogoproducts.com/custom-pens/americana-stylus-pen-jumboextralarge-420348.jpg\n",
            "[%] File Downloaded !\n",
            "\n",
            "[%] Downloading Image #16 from https://images8.qualitylogoproducts.com/custom-pens/baldwin-stylus-pen-jumboextralarge-394866.jpg\n",
            "[%] File Downloaded !\n",
            "\n",
            "[%] Downloading Image #17 from https://images8.qualitylogoproducts.com/custom-pens/aluminum-pen-with-stylus-jumboextralarge-392019.jpg\n",
            "[%] File Downloaded !\n",
            "\n",
            "[%] Downloading Image #18 from http://ultimatependesigns.com/Images/Ball Point Pens/Elegant Beauty Red BEB  $65.JPG\n",
            "[!] Issue getting: http://ultimatependesigns.com/Images/Ball Point Pens/Elegant Beauty Red BEB  $65.JPG\n",
            "[!] Error:: URL can't contain control characters. '/Images/Ball Point Pens/Elegant Beauty Red BEB  $65.JPG' (found at least ' ')\n",
            "[%] Downloading Image #18 from http://eofdreams.com/data_images/dreams/pen/pen-11.jpg\n",
            "[%] File Downloaded !\n",
            "\n",
            "[%] Downloading Image #19 from http://images2.fanpop.com/images/photos/3600000/a-thoughtfull-pen-writing-3647581-2560-1702.jpg\n",
            "[%] File Downloaded !\n",
            "\n",
            "[%] Downloading Image #20 from http://www.clipartbest.com/cliparts/dT6/XR5/dT6XR5znc.jpg\n",
            "[%] File Downloaded !\n",
            "\n",
            "[%] Downloading Image #21 from https://files.sandberg.it/products/images/lg/461-05_lg.jpg\n",
            "[%] File Downloaded !\n",
            "\n",
            "[%] Downloading Image #22 from https://images.containerstore.com/catalogimages/286092/10069168MultiFunctionPen&amp;PencilV2_12.jpg?width=1200&amp;height=1200&amp;align=center\n",
            "[%] File Downloaded !\n",
            "\n",
            "[%] Downloading Image #23 from http://www.pngall.com/wp-content/uploads/2016/05/Pen-Free-Download-PNG.png\n",
            "[%] File Downloaded !\n",
            "\n",
            "[%] Downloading Image #24 from https://n1.sdlcdn.com/imgs/b/y/2/Luxor-Style-Ball-Point-Pen-SDL417653115-1-e64d6.jpg\n",
            "[%] File Downloaded !\n",
            "\n",
            "[%] Downloading Image #25 from http://www.pngall.com/wp-content/uploads/2016/05/Pen-PNG-Picture.png\n",
            "[%] File Downloaded !\n",
            "\n",
            "[%] Downloading Image #26 from https://natpen.scene7.com/is/image/NatPenVegas/LPG\n",
            "[%] File Downloaded !\n",
            "\n",
            "[%] Downloading Image #27 from https://penfactory.com/media/catalog/product/cache/1/image/9df78eab33525d08d6e5fb8d27136e95/j/k/jk-30-silver--jackal-javelin-stylus-pens-green.jpg\n",
            "[%] File Downloaded !\n",
            "\n",
            "[%] Downloading Image #28 from https://images.containerstore.com/catalogimages/286091/10069168MultiFunctionPen&amp;Pencil_1200.jpg?width=1200&amp;height=1200&amp;align=center\n",
            "[%] File Downloaded !\n",
            "\n",
            "[%] Downloading Image #29 from https://images8.qualitylogoproducts.com/custom-pens/hedgehog-pen-superextralarge.jpg\n",
            "[%] File Downloaded !\n",
            "\n",
            "\n",
            "\n",
            "[!!]Indexing page: 2\n",
            "\n",
            "[%] Indexed 35 Images on Page 2.\n",
            "\n",
            "===============================================\n",
            "\n",
            "[%] Downloading Image #30 from https://cms.cdn.vpsvc.com/-/media/vistaprint/product-images/pens/premium_ballpoint_pen_1.ashx?la=en&amp;w=0&amp;h=0&amp;jq=80&amp;v=636687272050000000&amp;sc_lang=en&amp;hash=D680C54899636DA894B198F30D9B794E9CFBB589\n",
            "[%] File Downloaded !\n",
            "\n",
            "\n",
            "\n",
            "[%] Done. Downloaded 30 images.\n",
            "\n",
            "===============================================\n",
            "\n"
          ],
          "name": "stdout"
        }
      ]
    },
    {
      "cell_type": "code",
      "metadata": {
        "colab": {
          "base_uri": "https://localhost:8080/"
        },
        "id": "C5bFSCxmWrja",
        "outputId": "464bae35-8ef4-4402-b4ad-488e737ae12f"
      },
      "source": [
        "downloader.download(\"elephant images\", limit=30,output_dir='images',adult_filter_off=True)"
      ],
      "execution_count": null,
      "outputs": [
        {
          "output_type": "stream",
          "text": [
            "\n",
            "\n",
            "[!!]Indexing page: 1\n",
            "\n",
            "[%] Indexed 30 Images on Page 1.\n",
            "\n",
            "===============================================\n",
            "\n",
            "[%] Downloading Image #1 from https://upload.wikimedia.org/wikipedia/commons/thumb/3/37/African_Bush_Elephant.jpg/1200px-African_Bush_Elephant.jpg\n",
            "[%] File Downloaded !\n",
            "\n",
            "[%] Downloading Image #2 from https://traveldiscoverkenya.com/wp-content/uploads/2018/05/elephants.jpg\n",
            "[%] File Downloaded !\n",
            "\n",
            "[%] Downloading Image #3 from https://scitechdaily.com/images/Sad-African-Elephant.jpg\n",
            "[%] File Downloaded !\n",
            "\n",
            "[%] Downloading Image #4 from https://images2.minutemediacdn.com/image/upload/c_crop,h_1194,w_2127,x_0,y_39/v1565404115/shape/mentalfloss/86712-gettyimages-1067020092.jpg?itok=uuXqBq_I\n",
            "[%] File Downloaded !\n",
            "\n",
            "[%] Downloading Image #5 from https://upload.wikimedia.org/wikipedia/commons/thumb/d/dc/Elephant_near_ndutu.jpg/1200px-Elephant_near_ndutu.jpg\n",
            "[%] File Downloaded !\n",
            "\n",
            "[%] Downloading Image #6 from https://res.cloudinary.com/dk-find-out/image/upload/q_80,w_1920,f_auto/MA_00077427_yjtgnj.jpg\n",
            "[%] File Downloaded !\n",
            "\n",
            "[%] Downloading Image #7 from https://cdn.britannica.com/02/152302-050-1A984FCB/African-savanna-elephant.jpg\n",
            "[%] File Downloaded !\n",
            "\n",
            "[%] Downloading Image #8 from http://static.horizontimes.com/wp-content/uploads/2017/07/13095652/African-Elephant.jpg\n",
            "[%] File Downloaded !\n",
            "\n",
            "[%] Downloading Image #9 from https://2.bp.blogspot.com/-6f2mFXyrboo/VxFcz4Oh_oI/AAAAAAAAFYM/nhU-r8eVcVQgTj0aZVrjtM4TV8CidqjVgCKgB/s1600/Elephant-Animal-HD-Wallpapers.jpg\n",
            "[%] File Downloaded !\n",
            "\n",
            "[%] Downloading Image #10 from http://www.reportingday.com/wp-content/uploads/2018/08/Big-Elephant-Full-HD-Wallpapers.jpg\n",
            "[%] File Downloaded !\n",
            "\n",
            "[%] Downloading Image #11 from https://www.zsl.org/sites/default/files/media/2014-10/SG9A8359.jpg\n",
            "[%] File Downloaded !\n",
            "\n",
            "[%] Downloading Image #12 from https://www.iucn.org/sites/dev/files/styles/850x500_no_menu_article/public/content/images/2020/img_8130_edited.jpg?itok=TGXapELm\n",
            "[%] File Downloaded !\n",
            "\n",
            "[%] Downloading Image #13 from https://www.waterworksoftx.com/images/african_elephant_male_01.jpg\n",
            "[%] File Downloaded !\n",
            "\n",
            "[%] Downloading Image #14 from https://ichef.bbci.co.uk/news/1024/media/images/65850000/jpg/_65850775_a_elephant_single_bbc.jpg\n",
            "[%] File Downloaded !\n",
            "\n",
            "[%] Downloading Image #15 from https://upload.wikimedia.org/wikipedia/commons/thumb/b/b6/Borobudur-Temple-Park_Elephant-cage-01.jpg/1200px-Borobudur-Temple-Park_Elephant-cage-01.jpg\n",
            "[Error]Invalid image, not saving https://upload.wikimedia.org/wikipedia/commons/thumb/b/b6/Borobudur-Temple-Park_Elephant-cage-01.jpg/1200px-Borobudur-Temple-Park_Elephant-cage-01.jpg\n",
            "\n",
            "[!] Issue getting: https://upload.wikimedia.org/wikipedia/commons/thumb/b/b6/Borobudur-Temple-Park_Elephant-cage-01.jpg/1200px-Borobudur-Temple-Park_Elephant-cage-01.jpg\n",
            "[!] Error:: No active exception to reraise\n",
            "[%] Downloading Image #15 from https://www.nationalgeographic.com/content/dam/animals/2020/01/elephants-indian-tea-farms/elephants-indian-tea-farm-dsc_6456.ngsversion.1579865400773.adapt.1900.1.jpg\n",
            "[%] File Downloaded !\n",
            "\n",
            "[%] Downloading Image #16 from https://haydensanimalfacts.files.wordpress.com/2014/05/african-elephant.jpg\n",
            "[%] File Downloaded !\n",
            "\n",
            "[%] Downloading Image #17 from http://wallpapers9.org/wp-content/uploads/2015/02/Indian-Elephant-Laos-National-Animal-1.jpg\n",
            "[%] File Downloaded !\n",
            "\n",
            "[%] Downloading Image #18 from http://elephant-family.org/wp-content/uploads/2015/06/shutterstock_77217466.jpg\n",
            "[%] File Downloaded !\n",
            "\n",
            "[%] Downloading Image #19 from https://i.ytimg.com/vi/pIKHri5yKZs/maxresdefault.jpg\n",
            "[%] File Downloaded !\n",
            "\n",
            "[%] Downloading Image #20 from http://weknowyourdreams.com/images/elephant/elephant-13.jpg\n",
            "[%] File Downloaded !\n",
            "\n",
            "[%] Downloading Image #21 from https://static.scientificamerican.com/sciam/cache/file/83B0A26D-A020-4041-9F1EC032A8EE391A_source.jpg?w=590&amp;h=800&amp;9B2F343E-9C22-48C2-87FE5DE8D0550643\n",
            "[%] File Downloaded !\n",
            "\n",
            "[%] Downloading Image #22 from http://news.nationalgeographic.com/content/dam/news/2016/07/22/elephant-india/elephant-india.ngsversion.1469187002799.jpg\n",
            "[%] File Downloaded !\n",
            "\n",
            "[%] Downloading Image #23 from https://sites.psu.edu/siowfa16/files/2016/10/Elephant-wallpaper-26-1l0oc2t.jpg\n",
            "[%] File Downloaded !\n",
            "\n",
            "[%] Downloading Image #24 from http://images2.fanpop.com/image/photos/13100000/Elephant-animals-13168484-1067-1600.jpg\n",
            "[%] File Downloaded !\n",
            "\n",
            "[%] Downloading Image #25 from http://2.bp.blogspot.com/-TfU95f5pIvw/UiyzO8zKcNI/AAAAAAAAYS8/KlgwLt5S7Is/s1600/African+Elephant+Wallpapers+%25285%2529.jpg\n",
            "[%] File Downloaded !\n",
            "\n",
            "[%] Downloading Image #26 from https://universalproperty.com/assets/images/elephant-facts-you-may-not-know.jpg\n",
            "[%] File Downloaded !\n",
            "\n",
            "[%] Downloading Image #27 from https://cdn.lolwot.com/wp-content/uploads/2015/04/20-amazing-facts-about-the-majestic-elephant-7.jpg\n",
            "[%] File Downloaded !\n",
            "\n",
            "[%] Downloading Image #28 from https://www.animalspot.net/wp-content/uploads/2018/06/African-Bush-Elephant-Size.jpg\n",
            "[%] File Downloaded !\n",
            "\n",
            "[%] Downloading Image #29 from https://c402277.ssl.cf1.rackcdn.com/photos/12637/images/magazine_medium/Medium_WW22456.jpg?1477667080\n",
            "[%] File Downloaded !\n",
            "\n",
            "\n",
            "\n",
            "[!!]Indexing page: 2\n",
            "\n",
            "[%] Indexed 35 Images on Page 2.\n",
            "\n",
            "===============================================\n",
            "\n",
            "[%] Downloading Image #30 from https://upload.wikimedia.org/wikipedia/commons/thumb/3/37/African_Bush_Elephant.jpg/1200px-African_Bush_Elephant.jpg\n",
            "[%] File Downloaded !\n",
            "\n",
            "\n",
            "\n",
            "[%] Done. Downloaded 30 images.\n",
            "\n",
            "===============================================\n",
            "\n"
          ],
          "name": "stdout"
        }
      ]
    },
    {
      "cell_type": "code",
      "metadata": {
        "colab": {
          "base_uri": "https://localhost:8080/"
        },
        "id": "dD18P2hDWwmb",
        "outputId": "f6a67694-68f2-442a-fe87-0f6e8db33061"
      },
      "source": [
        "downloader.download(\"planet images\", limit=30,output_dir='images',adult_filter_off=True)"
      ],
      "execution_count": null,
      "outputs": [
        {
          "output_type": "stream",
          "text": [
            "\n",
            "\n",
            "[!!]Indexing page: 1\n",
            "\n",
            "[%] Indexed 30 Images on Page 1.\n",
            "\n",
            "===============================================\n",
            "\n",
            "[%] Downloading Image #1 from https://www.universetoday.com/wp-content/uploads/2010/03/A-Stormy-Atlantic.jpg\n",
            "[%] File Downloaded !\n",
            "\n",
            "[%] Downloading Image #2 from http://2.bp.blogspot.com/-2BhpjwNZZGk/T83VB4Om80I/AAAAAAAADtU/rvf6v0oqiPA/s1600/Planet+Earth+1.jpg\n",
            "[%] File Downloaded !\n",
            "\n",
            "[%] Downloading Image #3 from http://2.bp.blogspot.com/-XVRY2veAq-4/T83VkP2h_FI/AAAAAAAADt0/-62i6Lruqdg/s1600/Planet+Earth+5.jpg\n",
            "[%] File Downloaded !\n",
            "\n",
            "[%] Downloading Image #4 from https://nyheder.ku.dk/alle_nyheder/2012/2012.3/nyt-vandbudget-for-den-blaa-planet/Planeten-Jorden.jpg\n",
            "[%] File Downloaded !\n",
            "\n",
            "[%] Downloading Image #5 from https://images.fineartamerica.com/images/artworkimages/mediumlarge/1/planet-earth-from-space-north-america-prominent-saul-gravy.jpg\n",
            "[%] File Downloaded !\n",
            "\n",
            "[%] Downloading Image #6 from https://images.hellogiggles.com/uploads/2017/02/22052439/earth-blue-planet-globe-planet-87651.jpeg\n",
            "[%] File Downloaded !\n",
            "\n",
            "[%] Downloading Image #7 from http://www.ufstarfleet.org/wiki/images/b/b6/Blue-Planet-Earth.jpg\n",
            "[%] File Downloaded !\n",
            "\n",
            "[%] Downloading Image #8 from https://wallup.net/wp-content/uploads/2016/01/262425-planet-space.jpg\n",
            "[%] File Downloaded !\n",
            "\n",
            "[%] Downloading Image #9 from https://www.mat.ucsb.edu/~g.legrady/academic/courses/08s594/rch/db/images/Nasa_blue_marble.jpg\n",
            "[%] File Downloaded !\n",
            "\n",
            "[%] Downloading Image #10 from http://4.bp.blogspot.com/-zGfjiOcil5Y/T83VT89cMeI/AAAAAAAADtk/JDZM_xwL-eU/s1600/Planet+Earth+3.jpg\n",
            "[%] File Downloaded !\n",
            "\n",
            "[%] Downloading Image #11 from https://inspirationseek.com/wp-content/uploads/2016/02/Mercury-Planet-Pictures.jpg\n",
            "[%] File Downloaded !\n",
            "\n",
            "[%] Downloading Image #12 from https://i.ytimg.com/vi/x3zSxog3rrQ/maxresdefault.jpg\n",
            "[%] File Downloaded !\n",
            "\n",
            "[%] Downloading Image #13 from https://2.bp.blogspot.com/-Hftp0dW_wmI/UArVtqewRxI/AAAAAAAAIFE/g77v34O7Zjg/s1600/Hdhut.blogspot.com+(11).jpeg\n",
            "[%] File Downloaded !\n",
            "\n",
            "[%] Downloading Image #14 from https://www.campliveoakfl.com/wp-content/uploads/2016/06/Planets-in-the-sky.jpg\n",
            "[%] File Downloaded !\n",
            "\n",
            "[%] Downloading Image #15 from https://www.hdwallpapers.in/download/planet_earth_5k-HD.jpg\n",
            "[%] File Downloaded !\n",
            "\n",
            "[%] Downloading Image #16 from https://publicdomainpictures.net/pictures/140000/velka/planeta.jpg\n",
            "[%] File Downloaded !\n",
            "\n",
            "[%] Downloading Image #17 from http://images5.fanpop.com/image/photos/30900000/planets-astronomy-30987566-1600-1000.jpg\n",
            "[%] File Downloaded !\n",
            "\n",
            "[%] Downloading Image #18 from https://solarsystem.nasa.gov/system/downloadable_items/1073_PIA16853.jpg\n",
            "[%] File Downloaded !\n",
            "\n",
            "[%] Downloading Image #19 from http://hdqwalls.com/wallpapers/blue-digital-planet-ni.jpg\n",
            "[%] File Downloaded !\n",
            "\n",
            "[%] Downloading Image #20 from http://www.freeimageslive.com/galleries/space/planets/pics/eit_sl_171.jpg\n",
            "[%] File Downloaded !\n",
            "\n",
            "[%] Downloading Image #21 from http://getwallpapers.com/wallpaper/full/0/0/3/494872.jpg\n",
            "[%] File Downloaded !\n",
            "\n",
            "[%] Downloading Image #22 from https://i.ytimg.com/vi/UVS4tpWWNTM/maxresdefault.jpg\n",
            "[%] File Downloaded !\n",
            "\n",
            "[%] Downloading Image #23 from http://images4.fanpop.com/image/photos/22600000/Planets-beautiful-nature-22639223-960-800.jpg\n",
            "[%] File Downloaded !\n",
            "\n",
            "[%] Downloading Image #24 from http://cdn.sci-news.com/images/enlarge4/image_5614e-Multi-Planet-System.jpg\n",
            "[%] File Downloaded !\n",
            "\n",
            "[%] Downloading Image #25 from http://wallup.net/wp-content/uploads/2016/01/317155-Hubble_Deep_Field-space-stars-blue-Mercury-NASA-planet-shiny-Photoshop.jpg\n",
            "[%] File Downloaded !\n",
            "\n",
            "[%] Downloading Image #26 from http://rogueearth.com/wp-content/uploads/2012/07/planetTextures1.jpg\n",
            "[%] File Downloaded !\n",
            "\n",
            "[%] Downloading Image #27 from http://dailybruin.com/images/27317_web.ns.1.14.planet.pica.jpg\n",
            "[%] File Downloaded !\n",
            "\n",
            "[%] Downloading Image #28 from http://1.bp.blogspot.com/-Fjvby0Kqfoc/UMH4KrBSghI/AAAAAAAAOpE/q4owfAaP2gM/s1600/Planets+In+Space+Wallpapers+11.jpg\n",
            "[%] File Downloaded !\n",
            "\n",
            "[%] Downloading Image #29 from https://cdn.britannica.com/30/133930-131-580E6710/Background-bubble-planets-clouds-astrology-astronomy-bubbles.jpg\n",
            "[%] File Downloaded !\n",
            "\n",
            "[%] Downloading Image #30 from http://www.nasa.gov/images/content/509304main_kepler_rocky_planet_full.jpg\n",
            "[%] File Downloaded !\n",
            "\n"
          ],
          "name": "stdout"
        }
      ]
    },
    {
      "cell_type": "markdown",
      "metadata": {
        "id": "TcyTJPugXID5"
      },
      "source": [
        "Here, I actually wanted to consider my data to be bishop, knight and rook --> the chess pieces. But I have tried for hours, still the highest accuracy that I got is 56%.\r\n",
        "\r\n",
        "So, I decided to change my data to elephant, pen and planet. Here I am getting good accuracy."
      ]
    },
    {
      "cell_type": "markdown",
      "metadata": {
        "id": "YNVJ09apgNQ7"
      },
      "source": [
        "Here, I did some sort of wrong step. I have downloaded the images from bing image downloader and downloaded from colab to my PC. Then I closed the colab and after some time reopend it, the images folder is gone, it is not seen. \r\n",
        "\r\n",
        "So, I have run it again from the beginning, this time the images are different, like in place of a pen image, other things are also there along with that pen, like book..etc. \r\n",
        "\r\n",
        "So, I realized that I have downloaded the images earlier and I shared them to my drive and I have mounted my drive to this colab notebook. Sir, then I remembered that you have said that we can even manually download the data and the data is to be shared as well while submitting the mini project, I am glad.\r\n",
        "\r\n",
        "So, here I am using the data which was downloaded using bing image downloader and then downloaded to my pc."
      ]
    },
    {
      "cell_type": "code",
      "metadata": {
        "id": "oofNEfVpXHXc"
      },
      "source": [
        "# importing the required libraries\r\n",
        "\r\n",
        "import numpy as np    # used for numerical computing\r\n",
        "import pandas as pd   # used for create the dataframe\r\n",
        "import matplotlib.pyplot as plt   # used to display an image\r\n",
        "from skimage.io import imread   # use to read images\r\n",
        "from skimage.transform import resize    # used to resize(scaling) of data\r\n",
        "import os   # used to play around with the folders\r\n"
      ],
      "execution_count": null,
      "outputs": []
    },
    {
      "cell_type": "code",
      "metadata": {
        "id": "ld4qKWdIW26y"
      },
      "source": [
        "# preprocessing of data\r\n",
        "\r\n",
        "target = []\r\n",
        "images = []\r\n",
        "flat_data = []\r\n",
        "\r\n",
        "# creating a path to use all the images\r\n",
        "\r\n",
        "DATADIR = '/content/drive/MyDrive/ML internship/mini project/images'\r\n",
        "CATEGORIES = ['elephant','pen','planet']\r\n",
        "\r\n",
        "for category in CATEGORIES:\r\n",
        "  class_target = CATEGORIES.index(category)\r\n",
        "  path = os.path.join(DATADIR,category)\r\n",
        "  for img in os.listdir(path):\r\n",
        "    img_array = imread(os.path.join(path,img))\r\n",
        "    img_resized = resize(img_array,(150,150,3))   # resizes(sacling/normalizes) the values to the range 0 to 1\r\n",
        "    flat_data.append(img_resized.flatten())\r\n",
        "    images.append(img_resized)\r\n",
        "    target.append(class_target)\r\n",
        "\r\n",
        "# if in case our values are not converted to numpy arrays, we convert them here.\r\n",
        "# it will be easy for us to iterate in numpy\r\n",
        "\r\n",
        "flat_data = np.array(flat_data)\r\n",
        "images = np.array(images)\r\n",
        "target = np.array(target)\r\n"
      ],
      "execution_count": 26,
      "outputs": []
    },
    {
      "cell_type": "code",
      "metadata": {
        "colab": {
          "base_uri": "https://localhost:8080/"
        },
        "id": "4Zww5Y-BX1yY",
        "outputId": "5139ebca-be71-41b8-f398-658de962a26c"
      },
      "source": [
        "# we can check here our data\r\n",
        "\r\n",
        "flat_data"
      ],
      "execution_count": 39,
      "outputs": [
        {
          "output_type": "execute_result",
          "data": {
            "text/plain": [
              "array([[0.83137255, 0.87843137, 0.93333333, ..., 0.4791939 , 0.55043573,\n",
              "        0.3295207 ],\n",
              "       [0.67105447, 0.74901961, 0.85098039, ..., 0.45955556, 0.54684967,\n",
              "        0.07113725],\n",
              "       [1.        , 1.        , 1.        , ..., 1.        , 1.        ,\n",
              "        1.        ],\n",
              "       ...,\n",
              "       [0.03921569, 0.0627451 , 0.0627451 , ..., 0.04313725, 0.0727451 ,\n",
              "        0.09647059],\n",
              "       [0.        , 0.        , 0.        , ..., 0.        , 0.        ,\n",
              "        0.        ],\n",
              "       [0.        , 0.        , 0.        , ..., 0.        , 0.        ,\n",
              "        0.        ]])"
            ]
          },
          "metadata": {
            "tags": []
          },
          "execution_count": 39
        }
      ]
    },
    {
      "cell_type": "code",
      "metadata": {
        "colab": {
          "base_uri": "https://localhost:8080/"
        },
        "id": "A1ob9z0RYFBo",
        "outputId": "0a6c1702-0a4a-42bd-a93e-83663e063c8d"
      },
      "source": [
        "flat_data[0]"
      ],
      "execution_count": 40,
      "outputs": [
        {
          "output_type": "execute_result",
          "data": {
            "text/plain": [
              "array([0.83137255, 0.87843137, 0.93333333, ..., 0.4791939 , 0.55043573,\n",
              "       0.3295207 ])"
            ]
          },
          "metadata": {
            "tags": []
          },
          "execution_count": 40
        }
      ]
    },
    {
      "cell_type": "code",
      "metadata": {
        "colab": {
          "base_uri": "https://localhost:8080/"
        },
        "id": "v6m9nUKfYJVh",
        "outputId": "dd4aa0a9-3806-4cff-e3ee-ccb32234a76c"
      },
      "source": [
        "# as we know there will be 150*150*3 values\r\n",
        "\r\n",
        "150*150*3"
      ],
      "execution_count": 41,
      "outputs": [
        {
          "output_type": "execute_result",
          "data": {
            "text/plain": [
              "67500"
            ]
          },
          "metadata": {
            "tags": []
          },
          "execution_count": 41
        }
      ]
    },
    {
      "cell_type": "code",
      "metadata": {
        "colab": {
          "base_uri": "https://localhost:8080/"
        },
        "id": "HIfSOOlPYOdh",
        "outputId": "c13304db-f68b-4a1b-f786-84e1c3dc064c"
      },
      "source": [
        "# here our length is also the same\r\n",
        "len(flat_data[0])"
      ],
      "execution_count": 42,
      "outputs": [
        {
          "output_type": "execute_result",
          "data": {
            "text/plain": [
              "67500"
            ]
          },
          "metadata": {
            "tags": []
          },
          "execution_count": 42
        }
      ]
    },
    {
      "cell_type": "code",
      "metadata": {
        "colab": {
          "base_uri": "https://localhost:8080/"
        },
        "id": "gVSmT0JBYRZw",
        "outputId": "ba9f80b4-297d-4d1b-b901-5a907fec400e"
      },
      "source": [
        "# checking the target\r\n",
        "target"
      ],
      "execution_count": 43,
      "outputs": [
        {
          "output_type": "execute_result",
          "data": {
            "text/plain": [
              "array([0, 0, 0, 0, 0, 0, 0, 0, 0, 0, 0, 0, 0, 0, 0, 0, 0, 0, 0, 0, 0, 0,\n",
              "       0, 0, 0, 0, 0, 0, 0, 0, 1, 1, 1, 1, 1, 1, 1, 1, 1, 1, 1, 1, 1, 1,\n",
              "       1, 1, 1, 1, 1, 1, 1, 1, 1, 1, 1, 1, 1, 1, 1, 1, 2, 2, 2, 2, 2, 2,\n",
              "       2, 2, 2, 2, 2, 2, 2, 2, 2, 2, 2, 2, 2, 2, 2, 2, 2, 2, 2, 2, 2, 2,\n",
              "       2, 2])"
            ]
          },
          "metadata": {
            "tags": []
          },
          "execution_count": 43
        }
      ]
    },
    {
      "cell_type": "code",
      "metadata": {
        "colab": {
          "base_uri": "https://localhost:8080/"
        },
        "id": "GiTkiYy_YXoe",
        "outputId": "c85ae606-076f-478e-9dcf-fbe55001bac2"
      },
      "source": [
        "# checking the unique values\r\n",
        "\r\n",
        "unique, count = np.unique(target, return_counts=True)\r\n",
        "print(unique)\r\n",
        "print(count)"
      ],
      "execution_count": 44,
      "outputs": [
        {
          "output_type": "stream",
          "text": [
            "[0 1 2]\n",
            "[30 30 30]\n"
          ],
          "name": "stdout"
        }
      ]
    },
    {
      "cell_type": "code",
      "metadata": {
        "colab": {
          "base_uri": "https://localhost:8080/",
          "height": 282
        },
        "id": "Q5DKpNKrYbLL",
        "outputId": "06ec1925-bb26-4278-8fb5-2588fe29ed46"
      },
      "source": [
        "# plotting the graph\r\n",
        "import matplotlib.pyplot as plt\r\n",
        "plt.bar(CATEGORIES, count)"
      ],
      "execution_count": 45,
      "outputs": [
        {
          "output_type": "execute_result",
          "data": {
            "text/plain": [
              "<BarContainer object of 3 artists>"
            ]
          },
          "metadata": {
            "tags": []
          },
          "execution_count": 45
        },
        {
          "output_type": "display_data",
          "data": {
            "image/png": "[encoded data removed]",
            "text/plain": [
              "<Figure size 432x288 with 1 Axes>"
            ]
          },
          "metadata": {
            "tags": [],
            "needs_background": "light"
          }
        }
      ]
    },
    {
      "cell_type": "markdown",
      "metadata": {
        "id": "fUIKuESHYik8"
      },
      "source": [
        "As we can see that the graph has 30 values of each category, a total of 90 values (images (rows)) are there and we can say that this is a balanced dataset."
      ]
    },
    {
      "cell_type": "code",
      "metadata": {
        "id": "MJhL6WRvYeXu"
      },
      "source": [
        "# we don't need to create a dataframe here"
      ],
      "execution_count": null,
      "outputs": []
    },
    {
      "cell_type": "code",
      "metadata": {
        "colab": {
          "base_uri": "https://localhost:8080/"
        },
        "id": "pE9FYQaqYndx",
        "outputId": "30e2abd7-a4a0-4b23-e343-2e698c74e975"
      },
      "source": [
        "# splitting the data\r\n",
        "\r\n",
        "from sklearn.model_selection import train_test_split\r\n",
        "x_train, x_test, y_train, y_test = train_test_split(flat_data,target,test_size = 0.25,random_state=10,stratify=target)\r\n",
        "print(x_train.shape)\r\n",
        "print(x_test.shape)"
      ],
      "execution_count": 46,
      "outputs": [
        {
          "output_type": "stream",
          "text": [
            "(67, 67500)\n",
            "(23, 67500)\n"
          ],
          "name": "stdout"
        }
      ]
    },
    {
      "cell_type": "markdown",
      "metadata": {
        "id": "r2Rm9GYNYs5m"
      },
      "source": [
        "Here, we are using SVM as our classification algorithm. As we are using SVC in SVM, it will be useful in generating a very good hyperplane. As the values are 3D, a plane will seperate the classes.\r\n"
      ]
    },
    {
      "cell_type": "code",
      "metadata": {
        "colab": {
          "base_uri": "https://localhost:8080/"
        },
        "id": "wLMmadkEYpmK",
        "outputId": "1b34a7df-3196-4209-b686-a5d546f4a71c"
      },
      "source": [
        "# we will apply the SVM model here to check what is happening here\r\n",
        "\r\n",
        "from sklearn.svm import SVC  # support vector classifier\r\n",
        "model = SVC()\r\n",
        "model.fit(x_train,y_train)"
      ],
      "execution_count": 47,
      "outputs": [
        {
          "output_type": "execute_result",
          "data": {
            "text/plain": [
              "SVC(C=1.0, break_ties=False, cache_size=200, class_weight=None, coef0=0.0,\n",
              "    decision_function_shape='ovr', degree=3, gamma='scale', kernel='rbf',\n",
              "    max_iter=-1, probability=False, random_state=None, shrinking=True,\n",
              "    tol=0.001, verbose=False)"
            ]
          },
          "metadata": {
            "tags": []
          },
          "execution_count": 47
        }
      ]
    },
    {
      "cell_type": "code",
      "metadata": {
        "id": "tH9QAfyLYyaV",
        "colab": {
          "base_uri": "https://localhost:8080/"
        },
        "outputId": "38176a1a-c30a-4bb3-ed87-d67afa09c3fd"
      },
      "source": [
        "# predicting the o/p\r\n",
        "\r\n",
        "y_pred = model.predict(x_test)\r\n",
        "y_pred"
      ],
      "execution_count": 48,
      "outputs": [
        {
          "output_type": "execute_result",
          "data": {
            "text/plain": [
              "array([2, 0, 1, 2, 2, 0, 0, 0, 1, 2, 2, 1, 2, 1, 1, 0, 0, 2, 2, 2, 1, 1,\n",
              "       2])"
            ]
          },
          "metadata": {
            "tags": []
          },
          "execution_count": 48
        }
      ]
    },
    {
      "cell_type": "code",
      "metadata": {
        "id": "zHLSIBX4Y1C-",
        "colab": {
          "base_uri": "https://localhost:8080/"
        },
        "outputId": "b335b6a3-8db4-4063-84e7-3333bde37b72"
      },
      "source": [
        "# original o/p\r\n",
        "\r\n",
        "y_test"
      ],
      "execution_count": 49,
      "outputs": [
        {
          "output_type": "execute_result",
          "data": {
            "text/plain": [
              "array([2, 0, 0, 2, 2, 0, 0, 0, 1, 2, 2, 1, 2, 1, 1, 0, 0, 1, 2, 2, 1, 1,\n",
              "       1])"
            ]
          },
          "metadata": {
            "tags": []
          },
          "execution_count": 49
        }
      ]
    },
    {
      "cell_type": "code",
      "metadata": {
        "id": "aEOneN6kY3WM",
        "colab": {
          "base_uri": "https://localhost:8080/"
        },
        "outputId": "175316ba-19b5-4b3d-897b-93cd432bd0c9"
      },
      "source": [
        "# when I do the evaluation for this\r\n",
        "from sklearn.metrics import accuracy_score, confusion_matrix, classification_report\r\n",
        "print(confusion_matrix(y_pred, y_test))\r\n",
        "\r\n",
        "# when i see the accuracy score now\r\n",
        "print(accuracy_score(y_pred, y_test))\r\n",
        "\r\n",
        "# classification report\r\n",
        "print(classification_report(y_pred, y_test))"
      ],
      "execution_count": 50,
      "outputs": [
        {
          "output_type": "stream",
          "text": [
            "[[6 0 0]\n",
            " [1 6 0]\n",
            " [0 2 8]]\n",
            "0.8695652173913043\n",
            "              precision    recall  f1-score   support\n",
            "\n",
            "           0       0.86      1.00      0.92         6\n",
            "           1       0.75      0.86      0.80         7\n",
            "           2       1.00      0.80      0.89        10\n",
            "\n",
            "    accuracy                           0.87        23\n",
            "   macro avg       0.87      0.89      0.87        23\n",
            "weighted avg       0.89      0.87      0.87        23\n",
            "\n"
          ],
          "name": "stdout"
        }
      ]
    },
    {
      "cell_type": "markdown",
      "metadata": {
        "id": "Cbq8EdlpaDfG"
      },
      "source": [
        "As we can see here, the accuracy is good, we have got 3 wrong values.\r\n",
        "\r\n",
        "Here, we are using one particular selection of model called Grid Search CV, it makes sure that the parameters which we are using in SVC are proper, so that we get the appropriate results."
      ]
    },
    {
      "cell_type": "code",
      "metadata": {
        "colab": {
          "base_uri": "https://localhost:8080/"
        },
        "id": "yYhwvVMfZ65g",
        "outputId": "fc8b45fa-f2e2-42d0-f9ff-e47b6b9d2798"
      },
      "source": [
        "# using Grid Search CV\r\n",
        "\r\n",
        "from sklearn.model_selection import GridSearchCV\r\n",
        "svc = SVC()\r\n",
        "parameters = {\r\n",
        "    'kernel' : ['linear','rbf'],\r\n",
        "    'C' : [0.1,1,10,100,1000]\r\n",
        "}\r\n",
        "cv = GridSearchCV(svc, parameters, cv=5)\r\n",
        "cv.fit(x_train,y_train)\r\n",
        "cv.best_params_"
      ],
      "execution_count": 51,
      "outputs": [
        {
          "output_type": "execute_result",
          "data": {
            "text/plain": [
              "{'C': 10, 'kernel': 'rbf'}"
            ]
          },
          "metadata": {
            "tags": []
          },
          "execution_count": 51
        }
      ]
    },
    {
      "cell_type": "code",
      "metadata": {
        "colab": {
          "base_uri": "https://localhost:8080/"
        },
        "id": "YHnI1hJEaRRo",
        "outputId": "a01ecae0-e543-4b9c-ce59-d16c415e0fca"
      },
      "source": [
        "# changing the C value, default is 1\r\n",
        "# default kernel is rbf\r\n",
        "\r\n",
        "from sklearn.svm import SVC  # support vector classifier\r\n",
        "model = SVC(C=10)\r\n",
        "model.fit(x_train,y_train)"
      ],
      "execution_count": 52,
      "outputs": [
        {
          "output_type": "execute_result",
          "data": {
            "text/plain": [
              "SVC(C=10, break_ties=False, cache_size=200, class_weight=None, coef0=0.0,\n",
              "    decision_function_shape='ovr', degree=3, gamma='scale', kernel='rbf',\n",
              "    max_iter=-1, probability=False, random_state=None, shrinking=True,\n",
              "    tol=0.001, verbose=False)"
            ]
          },
          "metadata": {
            "tags": []
          },
          "execution_count": 52
        }
      ]
    },
    {
      "cell_type": "code",
      "metadata": {
        "colab": {
          "base_uri": "https://localhost:8080/"
        },
        "id": "n9dk7-ulalcC",
        "outputId": "717a382e-79e1-4d41-ba06-d4c78b53a45c"
      },
      "source": [
        "# predicting the o/p\r\n",
        "\r\n",
        "y_pred = model.predict(x_test)\r\n",
        "y_pred"
      ],
      "execution_count": 53,
      "outputs": [
        {
          "output_type": "execute_result",
          "data": {
            "text/plain": [
              "array([2, 0, 0, 2, 2, 0, 1, 0, 1, 2, 2, 1, 2, 1, 1, 0, 0, 2, 2, 2, 1, 1,\n",
              "       2])"
            ]
          },
          "metadata": {
            "tags": []
          },
          "execution_count": 53
        }
      ]
    },
    {
      "cell_type": "code",
      "metadata": {
        "colab": {
          "base_uri": "https://localhost:8080/"
        },
        "id": "zGnHm_AgauHk",
        "outputId": "2260902e-9acc-4d94-ee24-13795e8d6d88"
      },
      "source": [
        "# original o/p\r\n",
        "\r\n",
        "y_test"
      ],
      "execution_count": 54,
      "outputs": [
        {
          "output_type": "execute_result",
          "data": {
            "text/plain": [
              "array([2, 0, 0, 2, 2, 0, 0, 0, 1, 2, 2, 1, 2, 1, 1, 0, 0, 1, 2, 2, 1, 1,\n",
              "       1])"
            ]
          },
          "metadata": {
            "tags": []
          },
          "execution_count": 54
        }
      ]
    },
    {
      "cell_type": "code",
      "metadata": {
        "colab": {
          "base_uri": "https://localhost:8080/"
        },
        "id": "YzqB8ugPawIa",
        "outputId": "a5695ee2-7e07-4189-ee1c-1d51bafab9b1"
      },
      "source": [
        "# when I do the evaluation for this\r\n",
        "from sklearn.metrics import accuracy_score, confusion_matrix, classification_report\r\n",
        "print(confusion_matrix(y_pred, y_test))\r\n",
        "\r\n",
        "# when i see the accuracy score now\r\n",
        "print(accuracy_score(y_pred, y_test))\r\n",
        "  \r\n",
        "# classification report\r\n",
        "print(classification_report(y_pred, y_test))"
      ],
      "execution_count": 55,
      "outputs": [
        {
          "output_type": "stream",
          "text": [
            "[[6 0 0]\n",
            " [1 6 0]\n",
            " [0 2 8]]\n",
            "0.8695652173913043\n",
            "              precision    recall  f1-score   support\n",
            "\n",
            "           0       0.86      1.00      0.92         6\n",
            "           1       0.75      0.86      0.80         7\n",
            "           2       1.00      0.80      0.89        10\n",
            "\n",
            "    accuracy                           0.87        23\n",
            "   macro avg       0.87      0.89      0.87        23\n",
            "weighted avg       0.89      0.87      0.87        23\n",
            "\n"
          ],
          "name": "stdout"
        }
      ]
    },
    {
      "cell_type": "markdown",
      "metadata": {
        "id": "OcvYQEGtk2fY"
      },
      "source": [
        "As we can see, I am getting a accuracy of 86%."
      ]
    },
    {
      "cell_type": "code",
      "metadata": {
        "colab": {
          "base_uri": "https://localhost:8080/"
        },
        "id": "t-PVCgIOayqR",
        "outputId": "2c884aac-d1d8-4a9a-9400-ebea5041fb1a"
      },
      "source": [
        "from sklearn.model_selection import GridSearchCV\r\n",
        "svc = SVC()\r\n",
        "parameters = {'kernel' : ['linear','rbf'],\r\n",
        "    'C' : [0.1,1,10,100,1000],\r\n",
        "    'gamma' : [0.1,0.01,0.001,0.0001]\r\n",
        "}\r\n",
        "cv = GridSearchCV(svc, parameters, cv=5)\r\n",
        "cv.fit(x_train,y_train)\r\n",
        "cv.best_params_"
      ],
      "execution_count": 61,
      "outputs": [
        {
          "output_type": "execute_result",
          "data": {
            "text/plain": [
              "{'C': 10, 'gamma': 0.0001, 'kernel': 'rbf'}"
            ]
          },
          "metadata": {
            "tags": []
          },
          "execution_count": 61
        }
      ]
    },
    {
      "cell_type": "code",
      "metadata": {
        "colab": {
          "base_uri": "https://localhost:8080/"
        },
        "id": "SUUKs0JhlKVC",
        "outputId": "f00eb842-fc97-460e-da74-4b7937bbf1c4"
      },
      "source": [
        "from sklearn.svm import SVC  # support vector classifier\r\n",
        "model = SVC(gamma = 0.0001)\r\n",
        "model.fit(x_train,y_train)"
      ],
      "execution_count": 57,
      "outputs": [
        {
          "output_type": "execute_result",
          "data": {
            "text/plain": [
              "SVC(C=1.0, break_ties=False, cache_size=200, class_weight=None, coef0=0.0,\n",
              "    decision_function_shape='ovr', degree=3, gamma=0.0001, kernel='rbf',\n",
              "    max_iter=-1, probability=False, random_state=None, shrinking=True,\n",
              "    tol=0.001, verbose=False)"
            ]
          },
          "metadata": {
            "tags": []
          },
          "execution_count": 57
        }
      ]
    },
    {
      "cell_type": "code",
      "metadata": {
        "colab": {
          "base_uri": "https://localhost:8080/"
        },
        "id": "3UlG2q3PlWxB",
        "outputId": "0e7a3a39-1cbf-4f13-b2d4-b6aa98d3f434"
      },
      "source": [
        "# predicting the o/p\r\n",
        "\r\n",
        "y_pred = model.predict(x_test)\r\n",
        "y_pred"
      ],
      "execution_count": 58,
      "outputs": [
        {
          "output_type": "execute_result",
          "data": {
            "text/plain": [
              "array([2, 0, 1, 2, 2, 0, 0, 0, 1, 2, 2, 1, 2, 1, 1, 0, 0, 2, 2, 2, 1, 1,\n",
              "       2])"
            ]
          },
          "metadata": {
            "tags": []
          },
          "execution_count": 58
        }
      ]
    },
    {
      "cell_type": "code",
      "metadata": {
        "colab": {
          "base_uri": "https://localhost:8080/"
        },
        "id": "mEYh0ySXlWxU",
        "outputId": "8bc19221-9214-42b9-b1fd-ea5e176dfcbf"
      },
      "source": [
        "# original o/p\r\n",
        "\r\n",
        "y_test"
      ],
      "execution_count": 59,
      "outputs": [
        {
          "output_type": "execute_result",
          "data": {
            "text/plain": [
              "array([2, 0, 0, 2, 2, 0, 0, 0, 1, 2, 2, 1, 2, 1, 1, 0, 0, 1, 2, 2, 1, 1,\n",
              "       1])"
            ]
          },
          "metadata": {
            "tags": []
          },
          "execution_count": 59
        }
      ]
    },
    {
      "cell_type": "code",
      "metadata": {
        "colab": {
          "base_uri": "https://localhost:8080/"
        },
        "id": "lmfwnxQzlWxV",
        "outputId": "c2ee0c91-1d96-4c93-aa29-4352700159f0"
      },
      "source": [
        "# when I do the evaluation for this\r\n",
        "from sklearn.metrics import accuracy_score, confusion_matrix, classification_report\r\n",
        "print(confusion_matrix(y_pred, y_test))\r\n",
        "\r\n",
        "# when i see the accuracy score now\r\n",
        "print(accuracy_score(y_pred, y_test))\r\n",
        "  \r\n",
        "# classification report\r\n",
        "print(classification_report(y_pred, y_test))"
      ],
      "execution_count": 60,
      "outputs": [
        {
          "output_type": "stream",
          "text": [
            "[[6 0 0]\n",
            " [1 6 0]\n",
            " [0 2 8]]\n",
            "0.8695652173913043\n",
            "              precision    recall  f1-score   support\n",
            "\n",
            "           0       0.86      1.00      0.92         6\n",
            "           1       0.75      0.86      0.80         7\n",
            "           2       1.00      0.80      0.89        10\n",
            "\n",
            "    accuracy                           0.87        23\n",
            "   macro avg       0.87      0.89      0.87        23\n",
            "weighted avg       0.89      0.87      0.87        23\n",
            "\n"
          ],
          "name": "stdout"
        }
      ]
    },
    {
      "cell_type": "markdown",
      "metadata": {
        "id": "1AOJ8fYqmzbB"
      },
      "source": [
        "Even when changing the gamma value, i am getting the same accuracy."
      ]
    },
    {
      "cell_type": "code",
      "metadata": {
        "colab": {
          "base_uri": "https://localhost:8080/",
          "height": 319
        },
        "id": "cy3WAwn_lYup",
        "outputId": "7767bb1a-8dfc-4e3a-a61e-e158bcc879cd"
      },
      "source": [
        "# Testing a brand new image\r\n",
        "\r\n",
        "flat_data = []\r\n",
        "url = input('Enter the url: ')\r\n",
        "img = imread(url)\r\n",
        "img_resized = resize(img,(150,150,3))\r\n",
        "flat_data.append(img_resized.flatten())\r\n",
        "flat_data = np.array(flat_data)\r\n",
        "print(img.shape)\r\n",
        "plt.imshow(img_resized)\r\n",
        "y_out = model.predict(flat_data)\r\n",
        "y_out = CATEGORIES[y_out[0]]\r\n",
        "print(f'Predicted output : {y_out}')"
      ],
      "execution_count": 64,
      "outputs": [
        {
          "output_type": "stream",
          "text": [
            "Enter the url: https://pyxis.nymag.com/v1/imgs/765/2b6/04757c03f93ee03f392b59c32daedf464b-pentel-energel.2x.rhorizontal.w600.jpg\n",
            "(800, 1200, 3)\n",
            "Predicted output : pen\n"
          ],
          "name": "stdout"
        },
        {
          "output_type": "display_data",
          "data": {
            "image/png": "[encoded data removed]",
            "text/plain": [
              "<Figure size 432x288 with 1 Axes>"
            ]
          },
          "metadata": {
            "tags": [],
            "needs_background": "light"
          }
        }
      ]
    },
    {
      "cell_type": "code",
      "metadata": {
        "colab": {
          "base_uri": "https://localhost:8080/",
          "height": 339
        },
        "id": "DibHApKnpUjI",
        "outputId": "c61fd9b2-5a3a-4f7c-d2fe-859b2b39e0a4"
      },
      "source": [
        "# Testing a brand new image\r\n",
        "\r\n",
        "flat_data = []\r\n",
        "url = input('Enter the url: ')\r\n",
        "img = imread(url)\r\n",
        "img_resized = resize(img,(150,150,3))\r\n",
        "flat_data.append(img_resized.flatten())\r\n",
        "flat_data = np.array(flat_data)\r\n",
        "print(img.shape)\r\n",
        "plt.imshow(img_resized)\r\n",
        "y_out = model.predict(flat_data)\r\n",
        "y_out = CATEGORIES[y_out[0]]\r\n",
        "print(f'Predicted output : {y_out}')"
      ],
      "execution_count": 67,
      "outputs": [
        {
          "output_type": "stream",
          "text": [
            "Enter the url: https://upload.wikimedia.org/wikipedia/commons/thumb/1/13/Saturn_during_Equinox_%28rot45%29.jpg/148px-Saturn_during_Equinox_%28rot45%29.jpg\n",
            "(148, 148, 3)\n",
            "Predicted output : planet\n"
          ],
          "name": "stdout"
        },
        {
          "output_type": "display_data",
          "data": {
            "image/png": "[encoded data removed]",
            "text/plain": [
              "<Figure size 432x288 with 1 Axes>"
            ]
          },
          "metadata": {
            "tags": [],
            "needs_background": "light"
          }
        }
      ]
    },
    {
      "cell_type": "code",
      "metadata": {
        "colab": {
          "base_uri": "https://localhost:8080/",
          "height": 319
        },
        "id": "g52OiWXzqvH7",
        "outputId": "8aeaa051-63d5-4069-f2fb-5e487cc72b9c"
      },
      "source": [
        "# Testing a brand new image\r\n",
        "\r\n",
        "flat_data = []\r\n",
        "url = input('Enter the url: ')\r\n",
        "img = imread(url)\r\n",
        "img_resized = resize(img,(150,150,3))\r\n",
        "flat_data.append(img_resized.flatten())\r\n",
        "flat_data = np.array(flat_data)\r\n",
        "print(img.shape)\r\n",
        "plt.imshow(img_resized)\r\n",
        "y_out = model.predict(flat_data)\r\n",
        "y_out = CATEGORIES[y_out[0]]\r\n",
        "print(f'Predicted output : {y_out}')"
      ],
      "execution_count": 68,
      "outputs": [
        {
          "output_type": "stream",
          "text": [
            "Enter the url: https://horizon-media.s3-eu-west-1.amazonaws.com/s3fs-public/field/image/IMG_8089-VirpiLummaa_small.jpg\n",
            "(933, 1400, 3)\n",
            "Predicted output : elephant\n"
          ],
          "name": "stdout"
        },
        {
          "output_type": "display_data",
          "data": {
            "image/png": "[encoded data removed]",
            "text/plain": [
              "<Figure size 432x288 with 1 Axes>"
            ]
          },
          "metadata": {
            "tags": [],
            "needs_background": "light"
          }
        }
      ]
    },
    {
      "cell_type": "markdown",
      "metadata": {
        "id": "lVwYCkiGwrBb"
      },
      "source": [
        "Sir, this is my mini project. I tried my best to do so much better than this, but then I was getting only 56% accuracy for my chess data. So I went along with this dataset.\r\n",
        "\r\n",
        "I also have exams, my exams are on going now and uptoo march 25th I have exams, I would have tried my level best. I did this today only. Thank you sir for your reference video.\r\n",
        "\r\n",
        "I hope this project reaches your expectation and sorry if this is not up to the mark. I will try my level best in the major project."
      ]
    },
    {
      "cell_type": "code",
      "metadata": {
        "id": "VWX5zKqqrsf0"
      },
      "source": [
        ""
      ],
      "execution_count": null,
      "outputs": []
    }
  ]
}